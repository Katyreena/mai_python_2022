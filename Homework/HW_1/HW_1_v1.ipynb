{
  "nbformat": 4,
  "nbformat_minor": 0,
  "metadata": {
    "colab": {
      "provenance": [],
      "authorship_tag": "ABX9TyOiytLCREUrGbbeCe9RsEe7",
      "include_colab_link": true
    },
    "kernelspec": {
      "name": "python3",
      "display_name": "Python 3"
    },
    "language_info": {
      "name": "python"
    }
  },
  "cells": [
    {
      "cell_type": "markdown",
      "metadata": {
        "id": "view-in-github",
        "colab_type": "text"
      },
      "source": [
        "<a href=\"https://colab.research.google.com/github/katyreena/mai_python_2022/blob/main/Homework/HW_1/HW_1_v1.ipynb\" target=\"_parent\"><img src=\"https://colab.research.google.com/assets/colab-badge.svg\" alt=\"Open In Colab\"/></a>"
      ]
    },
    {
      "cell_type": "code",
      "execution_count": 2,
      "metadata": {
        "colab": {
          "base_uri": "https://localhost:8080/"
        },
        "id": "IrtJz-LXKxqu",
        "outputId": "56c3d0f1-b769-457c-9eed-c4f06ca0b7db"
      },
      "outputs": [
        {
          "output_type": "stream",
          "name": "stdout",
          "text": [
            "DJI Mavic 2 Pro\n",
            "DJI Mavic 2 Zoom\n",
            "DJI Mavic 2 Enterprise Advanced\n",
            "AUTEL Evo II Pro\n",
            "DJI Mini 2\n",
            "Autel Evo Nano\n",
            "Autel Evo Lite Plus\n",
            "Parrot Anafi\n",
            "Dji Inspire 2\n",
            "DJI Mavic 3\n",
            "DJI Mavic Air2s\n",
            "Ryze Tello\n",
            "Eachine Trashcan\n"
          ]
        }
      ],
      "source": [
        "drone_list = [\"DJI Mavic 2 Pro\", \"DJI Mavic 2 Zoom\", \"DJI Mavic 2 Enterprise Advanced\", \"AUTEL Evo II Pro\", \"DJI Mini 2\", \"Autel Evo Nano\", \"Autel Evo Lite Plus\", \"Parrot Anafi\", \"Dji Inspire 2\", \"DJI Mavic 3\", \"DJI Mavic Air2s\", \"Ryze Tello\", \"Eachine Trashcan\"]\n",
        "\n",
        "drone_weight_list = [903, 900, 920, 980, 249, 249, 600, 540, 1500, 1000, 570, 130, 110]\n",
        "\n",
        "#в drone по очереди попадает каждый дрон из списка drone_list\n",
        "for drone in drone_list:\n",
        "\tprint(drone)"
      ]
    },
    {
      "cell_type": "code",
      "source": [
        "#TODO1\n",
        "#выведите все дроны производителя, название которого введет пользователь через input, и подсчитайте их количество. \n",
        "#учтите, что:\n",
        "#1) DJI и Dji - это один и тот же производитель! такие случаи тоже должны обрабатываться\n",
        "#2) при выводе исправьте название производителя, если допущена ошибка. правильный вариант названия: DJI, Autel\n",
        "\n",
        "count = 0\n",
        "company_name = input().lower().strip()\n",
        "for drone in drone_list:\n",
        "  drone = drone.strip().split()\n",
        "  drone[0] = drone[0].lower()\n",
        "  if drone[0] == company_name:\n",
        "    drone[0] = drone[0].upper() if drone[0] == \"dji\" else drone[0].capitalize()\n",
        "    print(\" \".join(drone))\n",
        "    count += 1\n",
        "print(\"\\nКоличество дронов:\", count)"
      ],
      "metadata": {
        "colab": {
          "base_uri": "https://localhost:8080/"
        },
        "id": "ZxckRemtK6Px",
        "outputId": "531d6f18-eb30-4c71-a3c3-0ee17630cb19"
      },
      "execution_count": null,
      "outputs": [
        {
          "output_type": "stream",
          "name": "stdout",
          "text": [
            "dJI\n",
            "DJI Mavic 2 Pro\n",
            "DJI Mavic 2 Zoom\n",
            "DJI Mavic 2 Enterprise Advanced\n",
            "DJI Mini 2\n",
            "DJI Inspire 2\n",
            "DJI Mavic 3\n",
            "DJI Mavic Air2s\n",
            "\n",
            "Количество дронов: 7\n"
          ]
        }
      ]
    },
    {
      "cell_type": "code",
      "source": [
        "#TODO2\n",
        "#подсчитайте количество моделей дронов каждого производителя из списка drone_list. производители: DJI, Autel, Parrot, Ryze, Eachine\n",
        "\n",
        "d = dict((name, set()) for name in [\"DJI\", \"Autel\", \"Parrot\", \"Ryze\", \"Eachine\"])\n",
        "for drone in drone_list:\n",
        "  drone = drone.strip().split()\n",
        "  company_name = drone[0].upper() if drone[0].lower() == \"dji\" else drone[0].capitalize()\n",
        "  drone[0] = \"\"\n",
        "  model_name = \" \".join(drone)\n",
        "  d[company_name].add(model_name)\n",
        "\n",
        "for i in d:\n",
        "  print(f\"{i}: {len(d[i])}\")"
      ],
      "metadata": {
        "colab": {
          "base_uri": "https://localhost:8080/"
        },
        "id": "ivb-BNvWPb7q",
        "outputId": "d8f34d2b-cbe0-4ec7-efc3-a1b0e78735c2"
      },
      "execution_count": null,
      "outputs": [
        {
          "output_type": "stream",
          "name": "stdout",
          "text": [
            "DJI: 7\n",
            "Autel: 3\n",
            "Parrot: 1\n",
            "Ryze: 1\n",
            "Eachine: 1\n"
          ]
        }
      ]
    },
    {
      "cell_type": "code",
      "source": [
        "#TODO3\n",
        "#выведите все дроны из списка, которые нужно регистрировать (масса больше 150 г), и подсчитайте их количество. \n",
        "#сделайте то же самое для всех дронов, которые не нужно регистрировать\n",
        "#для этого вам нужно параллельно обрабатывать два списка: drone_list и drone_weight_list:\n",
        "#как работает zip, мы разберем на лекции про списки. пока что просто пользуйтесь\n",
        "\n",
        "count = 0\n",
        "print(\"Need registration:\\n\")\n",
        "for drone, weight in zip(drone_list,  drone_weight_list):\n",
        "  if weight > 150:\n",
        "    count += 1\n",
        "    print(drone, weight)\n",
        "print(f\"\\nCount: {count}\\n\")\n",
        " \n",
        "count = 0\n",
        "print(\"\\nDo not need registration:\\n\")\n",
        "for drone, weight in zip(drone_list,  drone_weight_list):\n",
        "  if weight <= 150:\n",
        "    count += 1\n",
        "    print(drone, weight)\n",
        "print(f\"\\nCount: {count}\\n\")"
      ],
      "metadata": {
        "colab": {
          "base_uri": "https://localhost:8080/"
        },
        "id": "D3MtA7FxPd_i",
        "outputId": "89dbfd4f-89f7-4081-ba77-54a51f6ccd71"
      },
      "execution_count": null,
      "outputs": [
        {
          "output_type": "stream",
          "name": "stdout",
          "text": [
            "Need registration:\n",
            "\n",
            "DJI Mavic 2 Pro 903\n",
            "DJI Mavic 2 Zoom 900\n",
            "DJI Mavic 2 Enterprise Advanced 920\n",
            "AUTEL Evo II Pro 980\n",
            "DJI Mini 2 249\n",
            "Autel Evo Nano 249\n",
            "Autel Evo Lite Plus 600\n",
            "Parrot Anafi 540\n",
            "Dji Inspire 2 1500\n",
            "DJI Mavic 3 1000\n",
            "DJI Mavic Air2s 570\n",
            "\n",
            "Count: 11\n",
            "\n",
            "\n",
            "Do not need registration:\n",
            "\n",
            "Ryze Tello 130\n",
            "Eachine Trashcan 110\n",
            "\n",
            "Count: 2\n",
            "\n"
          ]
        }
      ]
    },
    {
      "cell_type": "code",
      "source": [
        "#TODO4\n",
        "#для каждого дрона из списка выведите, нужно ли согласовывать полет при следующих условиях:\n",
        "#высота 100 м, полет над населенным пунктом, вне закрытых зон, в прямой видимости\n",
        "#помните, что для дронов тяжелее 150 г согласовывать полет над населенным пунктом - обязательно!\n",
        "\n",
        "height = 100\n",
        "isLocality = True\n",
        "isZoneClosed = False\n",
        "isVisible = True\n",
        "\n",
        "for drone, weight in zip(drone_list,  drone_weight_list):\n",
        "  if weight > 150:\n",
        "    print(f\"{format(drone)} требует согласования полёта: [вес дрона более 150 г].\\n\")\n",
        "    continue\n",
        "  else:\n",
        "    res = []\n",
        "    if height > 150:\n",
        "      res.append(\"[высота полета более 150 м]\")\n",
        "    if isLocality:\n",
        "      res.append(\"[полет над населенным пунктом]\")\n",
        "    if isZoneClosed:\n",
        "      res.append(\"[полет в закрытой зоне]\")\n",
        "    if not isVisible:\n",
        "      res.append(\"[полет не в прямой видимости]\")\n",
        "\n",
        "    if res.count == 0:\n",
        "      print(f\"{format(drone)} не требует согласования полёта.\\n\")\n",
        "    else:\n",
        "      print(f\"{format(drone)} требует согласования полёта:\", \", \".join(res), \"\\n\")"
      ],
      "metadata": {
        "colab": {
          "base_uri": "https://localhost:8080/"
        },
        "id": "rzWvG8JYFTy3",
        "outputId": "47c05922-c130-46c3-e945-66a846d32178"
      },
      "execution_count": 6,
      "outputs": [
        {
          "output_type": "stream",
          "name": "stdout",
          "text": [
            "DJI Mavic 2 Pro требует согласования полёта: [вес дрона более 150 г].\n",
            "\n",
            "DJI Mavic 2 Zoom требует согласования полёта: [вес дрона более 150 г].\n",
            "\n",
            "DJI Mavic 2 Enterprise Advanced требует согласования полёта: [вес дрона более 150 г].\n",
            "\n",
            "AUTEL Evo II Pro требует согласования полёта: [вес дрона более 150 г].\n",
            "\n",
            "DJI Mini 2 требует согласования полёта: [вес дрона более 150 г].\n",
            "\n",
            "Autel Evo Nano требует согласования полёта: [вес дрона более 150 г].\n",
            "\n",
            "Autel Evo Lite Plus требует согласования полёта: [вес дрона более 150 г].\n",
            "\n",
            "Parrot Anafi требует согласования полёта: [вес дрона более 150 г].\n",
            "\n",
            "Dji Inspire 2 требует согласования полёта: [вес дрона более 150 г].\n",
            "\n",
            "DJI Mavic 3 требует согласования полёта: [вес дрона более 150 г].\n",
            "\n",
            "DJI Mavic Air2s требует согласования полёта: [вес дрона более 150 г].\n",
            "\n",
            "Ryze Tello требует согласования полёта: [полет над населенным пунктом] \n",
            "\n",
            "Eachine Trashcan требует согласования полёта: [полет над населенным пунктом] \n",
            "\n"
          ]
        }
      ]
    },
    {
      "cell_type": "code",
      "source": [
        "#TODO5*\n",
        "#модифицируйте решение задания TODO1:\n",
        "#теперь для введенного пользователем производителя вы должны вывести строку, содержащую перечисление моделей и БЕЗ названия производителя.\n",
        "#например, пользователь ввел \"Autel\". ваша программа должна вывести вот такой результат: \"Evo II Pro, Evo Nano, Evo Lite Plus\". для этого вам понадобится несколько функций работы со строками. решить эту задачу можно несколькими разными способами\n",
        "#производители те же: DJI, Autel, Parrot, Ryze, Eachine\n",
        "\n",
        "res = []\n",
        "company_name = input().lower().strip()\n",
        "for drone in drone_list:\n",
        "  drone = drone.strip().split()\n",
        "  if drone[0].lower() == company_name:\n",
        "    drone.remove(drone[0])\n",
        "    res.append(\" \".join(drone))\n",
        "\n",
        "\", \".join(res)"
      ],
      "metadata": {
        "colab": {
          "base_uri": "https://localhost:8080/",
          "height": 53
        },
        "id": "S6jmvxCVPixh",
        "outputId": "2dfffc13-74f0-4fe6-b33f-87e8cce09048"
      },
      "execution_count": null,
      "outputs": [
        {
          "name": "stdout",
          "output_type": "stream",
          "text": [
            "dJi\n"
          ]
        },
        {
          "output_type": "execute_result",
          "data": {
            "text/plain": [
              "'Mavic 2 Pro, Mavic 2 Zoom, Mavic 2 Enterprise Advanced, Mini 2, Inspire 2, Mavic 3, Mavic Air2s'"
            ],
            "application/vnd.google.colaboratory.intrinsic+json": {
              "type": "string"
            }
          },
          "metadata": {},
          "execution_count": 128
        }
      ]
    }
  ]
}