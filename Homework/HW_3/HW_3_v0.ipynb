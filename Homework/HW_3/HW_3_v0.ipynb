{
  "nbformat": 4,
  "nbformat_minor": 0,
  "metadata": {
    "colab": {
      "provenance": [],
      "mount_file_id": "1AIX9LN_k9p18X2kkGj5ETVo8_gOQlHav",
      "authorship_tag": "ABX9TyOJP9iBwwNCibP97RdpPPJy",
      "include_colab_link": true
    },
    "kernelspec": {
      "name": "python3",
      "display_name": "Python 3"
    },
    "language_info": {
      "name": "python"
    }
  },
  "cells": [
    {
      "cell_type": "markdown",
      "metadata": {
        "id": "view-in-github",
        "colab_type": "text"
      },
      "source": [
        "<a href=\"https://colab.research.google.com/github/katyreena/mai_python_2022/blob/main/Homework/HW_3/HW_3_v0.ipynb\" target=\"_parent\"><img src=\"https://colab.research.google.com/assets/colab-badge.svg\" alt=\"Open In Colab\"/></a>"
      ]
    },
    {
      "cell_type": "code",
      "execution_count": 1,
      "metadata": {
        "id": "KykHzA8Ca61K"
      },
      "outputs": [],
      "source": [
        "# В ЭТОМ ДЗ ВЫ БУДЕТЕ АНАЛИЗИРОВАТЬ ДАННЫЕ ОБ АВИАПРОИСШЕСТВИЯХ С УЧАСТИЕМ МОДЕЛЕЙ ДРОНОВ ИЗ ВАШИХ ИСХОДНЫХ ДАННЫХ В .JSON\n",
        "\n",
        "# =====================================\n",
        "# ЗАДАНИЕ 1: Классы - декораторы\n",
        "# =====================================\n",
        "# TODO 1-1 - Добавить атрибут incidents типа список\n",
        "# Возьмите код из предыдущего ДЗ\n",
        "# Добавьте в класс MultirotorUAV атрибут incidents и внесите туда информацию обо всех найденных происшествиях для этой модели\n",
        "# Не забудьте, что атрибут добавляется при помощи декоратора"
      ]
    },
    {
      "cell_type": "code",
      "source": [
        "# ВАШ КОД из предыдущего ДЗ, необходимый для решения этого ДЗ (чтение данных о пилотах, сбор информации о дронах и пр.):\n",
        "import json\n",
        "\n",
        "class Aircraft:\n",
        "  def __init__(self, weight):\n",
        "    self._weight = weight\n",
        "\n",
        "class UAV:\n",
        "  def __init__(self):\n",
        "    self._has_autopilot = True\n",
        "    self._missions = []\n",
        "\n",
        "  @property\n",
        "  def missions(self):\n",
        "    return self._missions\n",
        "\n",
        "  @missions.setter\n",
        "  def missions(self, mission):\n",
        "    self._missions.append(mission)\n",
        " \n",
        "  def count_missions(self):\n",
        "    count = 0\n",
        "    for i in self._missions:\n",
        "      count += len(i)\n",
        "    return count\n",
        "\n",
        "class MultirotorUAV(Aircraft, UAV):\n",
        "  def __init__(self, weight, model, brand):\n",
        "    super().__init__(weight)\n",
        "    UAV.__init__(self)\n",
        "    self.__weight = weight\n",
        "    self.__model = model\n",
        "    self.__brand = brand\n",
        "\n",
        "    # добавьте приватный атрибут incidents\n",
        "    self.__incidents = []\n",
        "\n",
        "  def __str__(self):\n",
        "    return f\"Дрон {self.__model}: масса {self._weight}, производитель {self.__brand}, количество миссий {self.count_missions()}, количество инцедентов {len(self.__incidents)}\"\n",
        "\n",
        "  def __repr__(self):\n",
        "    return f\"Дрон {self.__model}: масса {self._weight}, производитель {self.__brand}, количество миссий {self.count_missions()}, количество инцедентов {len(self.__incidents)}\"\n",
        "    \n",
        "  def get_model(self):\n",
        "    return self.__model\n",
        "\n",
        "  def get_model_without_brand(self):\n",
        "    return (self.__model).replace(self.__brand, \"\").strip()\n",
        "\n",
        "  def get_weight(self):\n",
        "    return self.__weight\n",
        "\n",
        "  def get_brand(self):\n",
        "    return self.__brand\n",
        "\t\t\n",
        "  # напишите код декоратора для атрибута incidents. Не забудьте сначала добавить приватный атрибут в класс\n",
        "  @property\n",
        "  def incidents(self):\n",
        "    return self.__incidents\n",
        "\n",
        "  # напишите публичный метод add_incident, который добавляет инцидент в список инцидентов для данной модели дрона\n",
        "  def add_incident(self, incident):\n",
        "    self.__incidents.append(incident)\n",
        "\n",
        "\t# напишите публичный метод save_data, который сохраняет информацию о дроне в файл json\n",
        "  def save_data(self):\n",
        "    path = self.__class__.__name__ + \"_\" + self.get_model() + \".json\"\n",
        "    tmp = dict()\n",
        "    tmp.setdefault(\"model\", self.get_model())\n",
        "    tmp.setdefault(\"weight\", self.get_weight())\n",
        "    tmp.setdefault(\"brand\", self.get_brand())\n",
        "    tmp.setdefault(\"missions\", self.missions)\n",
        "    \n",
        "    incidents_tmp = []\n",
        "    for incident in self.incidents:\n",
        "      incidents_tmp.append(incedent)\n",
        "\n",
        "    tmp.setdefault(\"incidents\", incidents_tmp)\n",
        "    with open(path, 'w') as f:\n",
        "      json.dump(tmp, f, ensure_ascii=False, indent=2)\n",
        "\n",
        "    return tmp"
      ],
      "metadata": {
        "id": "KbfJ5sh5fZhv"
      },
      "execution_count": 2,
      "outputs": []
    },
    {
      "cell_type": "code",
      "source": [
        "#из дз №2\n",
        "drone_catalog = {\n",
        "\t\"DJI Mavic 2 Pro\": {\"weight\":903, \"brand\":\"DJI\"},\n",
        "\t\"DJI Mavic 2 Zoom\": {\"weight\":900, \"brand\":\"DJI\"},\n",
        "\t\"DJI Mavic 2 Enterprise Advanced\": {\"weight\":920, \"brand\":\"DJI\"},\n",
        "\t\"DJI Inspire 2\": {\"weight\":1500, \"brand\":\"DJI\"},\n",
        "\t\"DJI Mavic 3\": {\"weight\":1000, \"brand\":\"DJI\"}\n",
        "}\n",
        "\n",
        "with open(\"/content/drive/MyDrive/Colab Files/pilot_path.json\") as f:\n",
        "  pilots = json.load(f)\n",
        "\n",
        "model_missions = dict()\n",
        "for pilot in pilots:\n",
        "  for mission in pilots[pilot][\"missions\"]:\n",
        "    model_missions.setdefault(mission[\"drone\"], [])\n",
        "    model_missions[mission[\"drone\"]] += [mission[\"mission\"]]\n",
        "\n",
        "drones_list = []\n",
        "for i, model in enumerate(drone_catalog.keys()):\n",
        "  drones_list.append(MultirotorUAV(drone_catalog[model][\"weight\"], model,\\\n",
        "                                   drone_catalog[model][\"brand\"]))\n",
        "  drones_list[i].missions.append(model_missions[model])"
      ],
      "metadata": {
        "id": "196k1khNE3iO"
      },
      "execution_count": 27,
      "outputs": []
    },
    {
      "cell_type": "code",
      "source": [
        "# =====================================\n",
        "# ЗАДАНИЕ 2: Файлы - CSV\n",
        "# =====================================\n",
        "# TODO 2-1 - Загрузите информацию об авиапроисшествиях из файла csv\n",
        "# Проверьте по моделям (названия моделей возьмите из экземпляров класса MultirotorUAV), какие из них участвовали в авиапроисшествиях"
      ],
      "metadata": {
        "id": "moJzlxyofFWn"
      },
      "execution_count": 28,
      "outputs": []
    },
    {
      "cell_type": "code",
      "source": [
        "# ВАШ КОД чтения данных из файла:\n",
        "import csv\n",
        "\n",
        "data_str = []\n",
        "incidents = []\n",
        "\n",
        "with open(\"/content/drive/MyDrive/Colab Files/faa_incidents.csv\") as f:\n",
        "  reader = csv.reader(f)\n",
        "  for line in reader:\n",
        "    data_str = line\n",
        "    break\n",
        "\n",
        "with open(\"/content/drive/MyDrive/Colab Files/faa_incidents.csv\") as f:\n",
        "  reader = csv.DictReader(f)\n",
        "  for line in reader:\n",
        "    tmp = dict()\n",
        "    for data in data_str:\n",
        "      tmp.setdefault(data, line[data])\n",
        "    incidents.append(tmp)\n",
        "\n",
        "incidents[0]"
      ],
      "metadata": {
        "id": "ya5mZJZafcOc",
        "colab": {
          "base_uri": "https://localhost:8080/"
        },
        "outputId": "2e4e1055-12aa-438d-97aa-c234d2f4935b"
      },
      "execution_count": 29,
      "outputs": [
        {
          "output_type": "execute_result",
          "data": {
            "text/plain": [
              "{'Data Source': 'ACCIDENT AND INCIDENT DATABASE',\n",
              " 'Report Number': '20200525021299I',\n",
              " 'Local Date': '25-MAY-20',\n",
              " 'City': 'MOJAVE',\n",
              " 'State': 'CA',\n",
              " 'Airport Name': 'MOJAVE',\n",
              " 'Event Type': 'INCIDENT',\n",
              " 'Mid Air Collision': 'NOT A MIDAIR',\n",
              " 'Aircraft Damage': 'MINOR',\n",
              " 'Registration Nbr': 'NONE ',\n",
              " 'Total Aboard': '1',\n",
              " 'Fatalities': '0',\n",
              " 'Injuries': '2',\n",
              " 'Details': 'ON MAY 25, 2020, MOJAVE AIR AND SPACE PORT (KMHV) AIR TRAFFIC CONTROL TOWER (ATCT) PROVIDED VERBAL AUTHORIZATION TO ^PRIVACY DATA OMITTED^ TO PERFORM SUAS OPERATIONS IN KMHV CLASS D AIRSPACE. WIND SPEED WAS 7 KNOTS WITH GUSTS AT 14 KNOTS. WIND DIRECTION 060. ^PRIVACY DATA OMITTED^. AND KMHV HAVE A LETTER OF AGREEMENT (LOA) EFFECTIVE JANUARY 28, 2020 FOR SUAS OPERATIONS IN KMHV CLASS D AIRSPACE. ^PRIVACY DATA OMITTED^ HOLDS A CURRENT CERTIFICATE OF WAIVER OR AUTHORIZATION EFFECTIVE FROM JANUARY 31, 2019 TO SEPTEMBER 30, 2020 TO PERFORM SMALL UNMANNED AIRCRAFT SYTEM (SUAS) OPERATIONS IN CLASS D AIRSPACE AT KMHV. ^PRIVACY DATA OMITTED^ HOLDS A CURRENT REMOTE PILOT CERTIFICATE WITH A SUAS RATING ^PRIVACY DATA OMITTED^. REMOTE PILOT IN COMMAND (RPIC), ^PRIVACY DATA OMITTED^ WAS OPERATING UNDER PART 107 AT KMHV COVERING SURVEILLANCE OF THE VIRGIN ORBIT LAUNCHER ONE MISSION. RPIC WAS OPERATING A DJI INSPIRE 2 WITH A CAMERA/GIMBLE COMBINATION SET UP. DJI INSPIRE 2 (SN 09YDDCQL040384) CURRENT FAA SUAS REGISTRATION NUMBER FA343FTPWM. REGISTERED TO ^PRIVACY DATA OMITTED^. RPIC WAS OPERATING WITH ONE INEXPERIENCED VISUAL OBSERVER (VO). RPIC WAS NOT ACCUSTOMED TO OPERATING THE SMALL UNMANNED AIRCRAFT CONTROLS, MANIPULATING THE CAMERA/GIMBLE COMBINATION SET UP, AND COMMUNICATING TO ATCT VIA RADIO SIMULTANEOUSLY. RPIC WAS ALSO WORKING WITH AN INEXPERIENCED VO. RPIC BECAME TASK SATURATED AND LOST SIGHT OF THE SMALL UNMANNED AIRCRAFT. AT 1208 LOCAL TIME, THE SMALL UNMANNED AIRCRAFT STRUCK THE WEST SIDE OF KMHV ATCT. ^PRIVACY DATA OMITTED^ SUSTAINED A SUPERFICIAL HORIZONTAL LACERATION TO HIS RIGHT LOWER, INSIDE FOREARM. HE WAS TREATED ON-SCENE WITH BANDAGE AND GAUZE WRAP.'}"
            ]
          },
          "metadata": {},
          "execution_count": 29
        }
      ]
    },
    {
      "cell_type": "code",
      "source": [
        "# =====================================\n",
        "# ЗАДАНИЕ 3: Классы\n",
        "# =====================================\n",
        "# TODO 3-1 - Для каждой модели дрона добавьте в экземпляр класса информацию об авиапроисшествиях, в которых участвовала эта модель\n",
        "# Информацию сохраните в атрибут incidents (используйте декораторы)\n",
        "# Подсказка: вот так вы получаете названия модели для каждого экземпляра класса MultirotorUAV\n",
        "# Экземпляры все так же находятся в списке (например, drones_cls_list)"
      ],
      "metadata": {
        "id": "jmWjSsXpfFQi"
      },
      "execution_count": 30,
      "outputs": []
    },
    {
      "cell_type": "code",
      "source": [
        "#проверка происшествий по моделям\n",
        "for incident in incidents:\n",
        "  for drone in drones_list:\n",
        "    for data in data_str:\n",
        "      if drone.get_model_without_brand().upper() in str(incident[data]).upper():\n",
        "        drone.add_incident(incident)\n",
        "\n",
        "drones_list"
      ],
      "metadata": {
        "colab": {
          "base_uri": "https://localhost:8080/"
        },
        "id": "FW_65heLUyBm",
        "outputId": "4e0cefab-50c3-4e96-b0bb-5afe9bcf6630"
      },
      "execution_count": 31,
      "outputs": [
        {
          "output_type": "execute_result",
          "data": {
            "text/plain": [
              "[Дрон DJI Mavic 2 Pro: масса 903, производитель DJI, количество миссий 6, количество инцедентов 0,\n",
              " Дрон DJI Mavic 2 Zoom: масса 900, производитель DJI, количество миссий 9, количество инцедентов 1,\n",
              " Дрон DJI Mavic 2 Enterprise Advanced: масса 920, производитель DJI, количество миссий 10, количество инцедентов 0,\n",
              " Дрон DJI Inspire 2: масса 1500, производитель DJI, количество миссий 6, количество инцедентов 3,\n",
              " Дрон DJI Mavic 3: масса 1000, производитель DJI, количество миссий 4, количество инцедентов 0]"
            ]
          },
          "metadata": {},
          "execution_count": 31
        }
      ]
    },
    {
      "cell_type": "code",
      "source": [
        "#drones_list[3].incidents[1][\"Details\"]\n",
        "drones_list[1].incidents[0]"
      ],
      "metadata": {
        "colab": {
          "base_uri": "https://localhost:8080/"
        },
        "id": "YszJpHL74_XG",
        "outputId": "370e80a5-b09b-4986-e361-d045238a0773"
      },
      "execution_count": 32,
      "outputs": [
        {
          "output_type": "execute_result",
          "data": {
            "text/plain": [
              "{'Data Source': 'ACCIDENT AND INCIDENT DATABASE',\n",
              " 'Report Number': '20200715021179I',\n",
              " 'Local Date': '15-JUL-20',\n",
              " 'City': 'NORTH PORT',\n",
              " 'State': 'FL',\n",
              " 'Airport Name': 'INCIDENT',\n",
              " 'Event Type': 'NOT A MIDAIR',\n",
              " 'Mid Air Collision': 'DESTROYED',\n",
              " 'Aircraft Damage': 'NONE ',\n",
              " 'Registration Nbr': '1',\n",
              " 'Total Aboard': '0',\n",
              " 'Fatalities': '0',\n",
              " 'Injuries': 'ON JULY 15, 2020 AT 1050 EDT, A DJI, MAVIC 2 ZOOM L1Z UAS, SERIAL # 0M6TG85R0A04ZP, UA FA REGISTRATION # FA3RE7RNWP, REGISTERED TO ^PRIVACY DATA OMITTED^ (PIC), REMOTE PILOT CERTIFICATE ^PRIVACY DATA OMITTED^, LOST CONTROLLED FLIGHT IN THE AREA OF ^PRIVACY DATA OMITTED^ AND HIT A BLACK NISSAN PICKUP TRUCK BEARING ^PRIVACY DATA OMITTED^ TRAVELING ALONG TAMIAMI TRAIL IN NORTH PORT CAUSING PROPERTY DAMAGE. THE UAS WAS FLOWN ON A RECREATIONAL FLIGHT OVER A CONSTRUCTION SITE AT ^PRIVACY DATA OMITTED^, USING AN AUTOMATIC FREQUENCY SELECTION FEATURE THAT RANGED FROM 2.400 - 2.4835 GHZ; 5.725 - 5.850 GHZ. WEATHER CONDITIONS WERE CLEAR AND ARE NOT CONSIDERED A FACTOR. THE UAS WAS DESTROYED AND THE PROPERTY DAMAGE WAS GREATER THAN $500. THERE WERE NO PERSONAL INJURIES. THE FLIGHT ORIGINATED FROM ^PRIVACY DATA OMITTED^, EARLIER THAT DAY. WHILE THIS INCIDENT MEETS FAA UAS ACCIDENT CRITERIA, IT DOES NOT MEET THE NTSB?S UAS ACCIDENT CRITERIA. THE NTSB WOULD NOT ISSUE A NTSB ACCIDENT NUMBER FOR THIS EVENT. THEREFORE, THIS EVENT WILL BE CLASSIFIED AN INCIDENT.',\n",
              " 'Details': None}"
            ]
          },
          "metadata": {},
          "execution_count": 32
        }
      ]
    },
    {
      "cell_type": "code",
      "source": [
        "# TODO 3-2 - Добавьте в класс MultirotorUAV публичный метод save_data, который сохраняет статистику по дрону в файл\n",
        "# Внимание! Метод save_data не принимает параметры. Название файла сформируйте как: название класса + название модели + расширение .json\n",
        "# например: \"MultirotorUAV_DJI Mavic 2 Pro.json\"\n",
        "# Подсказка: название класса вы можете получить вот так: self.__class__.__name__\n",
        "# используйте ключи: \"model\", \"weight\", \"brand\", \"missions\", \"incidents\"\n",
        "# например: {\"model\":\"DJI Inspire 2\", \"weight\": 1500, \"info\": \"...\", \"manufacturer\": \"DJI\", \"missions\": [], \"incidents\": []}\n",
        "\n",
        "# ВАШ КОД - допишите код в объявлении класса"
      ],
      "metadata": {
        "id": "Xv3gaqLVff4A"
      },
      "execution_count": 9,
      "outputs": []
    },
    {
      "cell_type": "code",
      "source": [
        "# =====================================\n",
        "# ЗАДАНИЕ 4: Регулярные выражения\n",
        "# =====================================\n",
        "# TODO 4-1 - Выведите на экран собранную информацию по инцидентам по каждому дрону в таком виде:\n",
        "# модель: инцидентов - количество\n",
        "# 1 - краткий текст инцидента*\n",
        "# полный текст инцидента\n",
        "# * - краткий текст инцидента получайте следующим образом: в исходном тексте инцидента найдите модель, например, INSPIRE 2,\n",
        "# и выведите все предложения, в которых встречается упоминание этой модели\n",
        "# Подсказка 1: Полностью готовый код есть в лекции про регулярные выражения (пример про перелетных птиц).\n",
        "# Ваши изменения: а) вставить вместо \"зим\" название модели дрона, б) поменять язык поиска на английский\n",
        "# Подсказка 2: не забывайте использовать флаг re.I для игнорирования регистра символов\n",
        "# Подсказка 3: перед тем, как искать, уберите из названия модели название производителя\n",
        "# Подсказка 4: лучше не используйте re.compile. Для этого случая работает не очень\n",
        "\n",
        "# РЕЗУЛЬТАТ:\n",
        "# mavic 2 enterprise advanced: инцидентов - 0\n",
        "# mavic 2 pro: инцидентов - 0\n",
        "# mavic 3: инцидентов - 0\n",
        "# mavic 2 zoom: инцидентов - 1\n",
        "# 1 - ON JULY 15, 2020 AT 1050 EDT, A DJI, MAVIC 2 ZOOM L1Z UAS, SERIAL # 0M6TG85R0A04ZP, UA FA REGISTRATION # FA3RE7RNWP, REGISTERED TO ^PRIVACY DATA OMITTED^ (PIC), REMOTE PILOT CERTIFICATE ^PRIVACY DATA OMITTED^, LOST CONTROLLED FLIGHT IN THE AREA OF ^PRIVACY DATA OMITTED^ AND HIT A BLACK NISSAN PICKUP TRUCK BEARING ^PRIVACY DATA OMITTED^ TRAVELING ALONG TAMIAMI TRAIL IN NORTH PORT CAUSING PROPERTY DAMAGE.\n",
        "# ON JULY 15, 2020 AT 1050 EDT, A DJI, MAVIC 2 ZOOM L1Z UAS, SERIAL # 0M6TG85R0A04ZP, UA FA REGISTRATION # FA3RE7RNWP, REGISTERED TO ^PRIVACY DATA OMITTED^ (PIC), REMOTE PILOT CERTIFICATE ^PRIVACY DATA OMITTED^, LOST CONTROLLED FLIGHT IN THE AREA OF ^PRIVACY DATA OMITTED^ AND HIT A BLACK NISSAN PICKUP TRUCK BEARING ^PRIVACY DATA OMITTED^ TRAVELING ALONG TAMIAMI TRAIL IN NORTH PORT CAUSING PROPERTY DAMAGE. THE UAS WAS FLOWN ON A RECREATIONAL FLIGHT OVER A CONSTRUCTION SITE AT ^PRIVACY DATA OMITTED^, USING AN AUTOMATIC FREQUENCY SELECTION FEATURE THAT RANGED FROM 2.400 - 2.4835 GHZ; 5.725 - 5.850 GHZ. WEATHER CONDITIONS WERE CLEAR AND ARE NOT CONSIDERED A FACTOR. THE UAS WAS DESTROYED AND THE PROPERTY DAMAGE WAS GREATER THAN $500. THERE WERE NO PERSONAL INJURIES. THE FLIGHT ORIGINATED FROM ^PRIVACY DATA OMITTED^, EARLIER THAT DAY. WHILE THIS INCIDENT MEETS FAA UAS ACCIDENT CRITERIA, IT DOES NOT MEET THE NTSB?S UAS ACCIDENT CRITERIA. THE NTSB WOULD NOT ISSUE A NTSB ACCIDENT NUMBER FOR THIS EVENT. THEREFORE, THIS EVENT WILL BE CLASSIFIED AN INCIDENT.\n",
        "# inspire 2: инцидентов - 3\n",
        "# 1 - RPIC WAS OPERATING A DJI INSPIRE 2 WITH A CAMERA/GIMBLE COMBINATION SET UP. DJI INSPIRE 2 (SN 09YDDCQL040384) CURRENT FAA SUAS REGISTRATION NUMBER FA343FTPWM.\n",
        "# ON MAY 25, 2020, MOJAVE AIR AND SPACE PORT (KMHV) AIR TRAFFIC CONTROL TOWER (ATCT) PROVIDED VERBAL AUTHORIZATION TO ^PRIVACY DATA OMITTED^ TO PERFORM SUAS OPERATIONS IN KMHV CLASS D AIRSPACE. WIND SPEED WAS 7 KNOTS WITH GUSTS AT 14 KNOTS. WIND DIRECTION 060. ^PRIVACY DATA OMITTED^. AND KMHV HAVE A LETTER OF AGREEMENT (LOA) EFFECTIVE JANUARY 28, 2020 FOR SUAS OPERATIONS IN KMHV CLASS D AIRSPACE. ^PRIVACY DATA OMITTED^ HOLDS A CURRENT CERTIFICATE OF WAIVER OR AUTHORIZATION EFFECTIVE FROM JANUARY 31, 2019 TO SEPTEMBER 30, 2020 TO PERFORM SMALL UNMANNED AIRCRAFT SYTEM (SUAS) OPERATIONS IN CLASS D AIRSPACE AT KMHV. ^PRIVACY DATA OMITTED^ HOLDS A CURRENT REMOTE PILOT CERTIFICATE WITH A SUAS RATING ^PRIVACY DATA OMITTED^. REMOTE PILOT IN COMMAND (RPIC), ^PRIVACY DATA OMITTED^ WAS OPERATING UNDER PART 107 AT KMHV COVERING SURVEILLANCE OF THE VIRGIN ORBIT LAUNCHER ONE MISSION. RPIC WAS OPERATING A DJI INSPIRE 2 WITH A CAMERA/GIMBLE COMBINATION SET UP. DJI INSPIRE 2 (SN 09YDDCQL040384) CURRENT FAA SUAS REGISTRATION NUMBER FA343FTPWM. REGISTERED TO ^PRIVACY DATA OMITTED^. RPIC WAS OPERATING WITH ONE INEXPERIENCED VISUAL OBSERVER (VO). RPIC WAS NOT ACCUSTOMED TO OPERATING THE SMALL UNMANNED AIRCRAFT CONTROLS, MANIPULATING THE CAMERA/GIMBLE COMBINATION SET UP, AND COMMUNICATING TO ATCT VIA RADIO SIMULTANEOUSLY. RPIC WAS ALSO WORKING WITH AN INEXPERIENCED VO. RPIC BECAME TASK SATURATED AND LOST SIGHT OF THE SMALL UNMANNED AIRCRAFT. AT 1208 LOCAL TIME, THE SMALL UNMANNED AIRCRAFT STRUCK THE WEST SIDE OF KMHV ATCT. ^PRIVACY DATA OMITTED^ SUSTAINED A SUPERFICIAL HORIZONTAL LACERATION TO HIS RIGHT LOWER, INSIDE FOREARM. HE WAS TREATED ON-SCENE WITH BANDAGE AND GAUZE WRAP.\n",
        "# 2 - USED RENTED DJI INSPIRE 2 DRONE.\n",
        "# UAS PILOT ^PRIVACY DATA OMITTED^ REMOTE CERTIFICATE #^PRIVACY DATA OMITTED^ WAS HIRED BY PRODUCER ^PRIVACY DATA OMITTED^ TO DO SOME AERIAL SHOTS OF EL MORRO FOR A DOCUMENTARY ABOUT THE 500 YEARS OF THE CITY OF SAN JUAN ON SEPTEMBER 3RD. USED RENTED DJI INSPIRE 2 DRONE. LOST CONTROL LINK WITH DRONE ON WAY BACK CRASHED INTO EL MORRO FORT IN OLD SAN JUAN.\n",
        "# 3 - AIRCRAFT IS A DJI T650A INSPIRE 2 SUAS, SERIAL # 0A0LG2J107005, REGISTRATION # FA3FTYCLFE.\n",
        "# AIRCRAFT IS A DJI T650A INSPIRE 2 SUAS, SERIAL # 0A0LG2J107005, REGISTRATION # FA3FTYCLFE. FREQUENCY USED IS UNKNOWN. THE AIRCRAFT HAS TWO FREQUENCIES AVAILABLE, 2.4 AND 5.8 GHZ, BUT THE PIC DOESN'T REMEMBER WHICH ONE WAS IN USE DURING THE FLIGHT. PIC IS ^PRIVACY DATA OMITTED^, CERTIFICATE ^PRIVACY DATA OMITTED^. ^PRIVACY DATA OMITTED^ SAID THAT THE UAS EXPERIENCED AN ERROR ON ITS FIRST CALIBRATION ATTEMPT PRIOR TO LAUNCH BUT CALIBRATED CORRECTLY ON THE SECOND ATTEMPT AND THE FLIGHT CONTINUED AFTER RECORDING THE HOME POINT AT THE LAUNCH POSITION. HE SAID THE UAS WAS IN POSITIONING MODE (P-MODE) FOR THE ENTIRE FLIGHT. THE LANDING SEQUENCE WAS INITIATED MANUALLY (I.E. THE AUTOLAND FEATURE WAS NOT USED). ^PRIVACY DATA OMITTED^ SAID THAT THE UAS \"TOOK OFF\" WHEN IT GOT DOWN TO ABOUT 5' AGL AND FLEW INSIDE THE CPD HANGAR WHERE IT STRUCK A CPD HELICOPTER. HE SAID THAT THE UAS ACTED AS IF IT WAS \"PRE-PROGRAMMED\" TO FLY INTO THE HANGAR ONCE IT GOT AWAY FROM HIM."
      ],
      "metadata": {
        "id": "McbA2C-wfFEF"
      },
      "execution_count": 10,
      "outputs": []
    },
    {
      "cell_type": "code",
      "source": [
        "# ВАШ КОД:\n",
        "import re\n",
        "\n",
        "for drone in drones_list:\n",
        "  model = drone.get_model_without_brand().upper()\n",
        "  print(f\"{model.lower()}: инцидентов - {len(drone.incidents)}\")\n",
        "  for i, incedent in enumerate(drone.incidents, 1):\n",
        "    for key in incedent.keys():\n",
        "      if model in str(incedent[key]):\n",
        "        strs = (incedent[key]).split('.')\n",
        "        res = []\n",
        "        for s in strs:\n",
        "          pattern = re.compile(rf'{model}', flags=re.I)\n",
        "          while True:\n",
        "            result = pattern.search(s, re.IGNORECASE)\n",
        "            if result != None:\n",
        "              res.append(s)\n",
        "              s = s[result.end():]\n",
        "            else:\n",
        "              break\n",
        "              \n",
        "        print(f\"{i} - {'.'.join(res)}.\")\n",
        "        print(incedent[key])"
      ],
      "metadata": {
        "id": "cyyt4FKTfztb",
        "colab": {
          "base_uri": "https://localhost:8080/"
        },
        "outputId": "a6d7d2f6-ffc2-4b2b-9989-9b7547743974"
      },
      "execution_count": 48,
      "outputs": [
        {
          "output_type": "stream",
          "name": "stdout",
          "text": [
            "mavic 2 pro: инцидентов - 0\n",
            "mavic 2 zoom: инцидентов - 1\n",
            "1 - ON JULY 15, 2020 AT 1050 EDT, A DJI, MAVIC 2 ZOOM L1Z UAS, SERIAL # 0M6TG85R0A04ZP, UA FA REGISTRATION # FA3RE7RNWP, REGISTERED TO ^PRIVACY DATA OMITTED^ (PIC), REMOTE PILOT CERTIFICATE ^PRIVACY DATA OMITTED^, LOST CONTROLLED FLIGHT IN THE AREA OF ^PRIVACY DATA OMITTED^ AND HIT A BLACK NISSAN PICKUP TRUCK BEARING ^PRIVACY DATA OMITTED^ TRAVELING ALONG TAMIAMI TRAIL IN NORTH PORT CAUSING PROPERTY DAMAGE.\n",
            "ON JULY 15, 2020 AT 1050 EDT, A DJI, MAVIC 2 ZOOM L1Z UAS, SERIAL # 0M6TG85R0A04ZP, UA FA REGISTRATION # FA3RE7RNWP, REGISTERED TO ^PRIVACY DATA OMITTED^ (PIC), REMOTE PILOT CERTIFICATE ^PRIVACY DATA OMITTED^, LOST CONTROLLED FLIGHT IN THE AREA OF ^PRIVACY DATA OMITTED^ AND HIT A BLACK NISSAN PICKUP TRUCK BEARING ^PRIVACY DATA OMITTED^ TRAVELING ALONG TAMIAMI TRAIL IN NORTH PORT CAUSING PROPERTY DAMAGE. THE UAS WAS FLOWN ON A RECREATIONAL FLIGHT OVER A CONSTRUCTION SITE AT ^PRIVACY DATA OMITTED^, USING AN AUTOMATIC FREQUENCY SELECTION FEATURE THAT RANGED FROM 2.400 - 2.4835 GHZ; 5.725 - 5.850 GHZ. WEATHER CONDITIONS WERE CLEAR AND ARE NOT CONSIDERED A FACTOR. THE UAS WAS DESTROYED AND THE PROPERTY DAMAGE WAS GREATER THAN $500. THERE WERE NO PERSONAL INJURIES. THE FLIGHT ORIGINATED FROM ^PRIVACY DATA OMITTED^, EARLIER THAT DAY. WHILE THIS INCIDENT MEETS FAA UAS ACCIDENT CRITERIA, IT DOES NOT MEET THE NTSB?S UAS ACCIDENT CRITERIA. THE NTSB WOULD NOT ISSUE A NTSB ACCIDENT NUMBER FOR THIS EVENT. THEREFORE, THIS EVENT WILL BE CLASSIFIED AN INCIDENT.\n",
            "mavic 2 enterprise advanced: инцидентов - 0\n",
            "inspire 2: инцидентов - 3\n",
            "1 -  RPIC WAS OPERATING A DJI INSPIRE 2 WITH A CAMERA/GIMBLE COMBINATION SET UP. DJI INSPIRE 2 (SN 09YDDCQL040384) CURRENT FAA SUAS REGISTRATION NUMBER FA343FTPWM.\n",
            "ON MAY 25, 2020, MOJAVE AIR AND SPACE PORT (KMHV) AIR TRAFFIC CONTROL TOWER (ATCT) PROVIDED VERBAL AUTHORIZATION TO ^PRIVACY DATA OMITTED^ TO PERFORM SUAS OPERATIONS IN KMHV CLASS D AIRSPACE. WIND SPEED WAS 7 KNOTS WITH GUSTS AT 14 KNOTS. WIND DIRECTION 060. ^PRIVACY DATA OMITTED^. AND KMHV HAVE A LETTER OF AGREEMENT (LOA) EFFECTIVE JANUARY 28, 2020 FOR SUAS OPERATIONS IN KMHV CLASS D AIRSPACE. ^PRIVACY DATA OMITTED^ HOLDS A CURRENT CERTIFICATE OF WAIVER OR AUTHORIZATION EFFECTIVE FROM JANUARY 31, 2019 TO SEPTEMBER 30, 2020 TO PERFORM SMALL UNMANNED AIRCRAFT SYTEM (SUAS) OPERATIONS IN CLASS D AIRSPACE AT KMHV. ^PRIVACY DATA OMITTED^ HOLDS A CURRENT REMOTE PILOT CERTIFICATE WITH A SUAS RATING ^PRIVACY DATA OMITTED^. REMOTE PILOT IN COMMAND (RPIC), ^PRIVACY DATA OMITTED^ WAS OPERATING UNDER PART 107 AT KMHV COVERING SURVEILLANCE OF THE VIRGIN ORBIT LAUNCHER ONE MISSION. RPIC WAS OPERATING A DJI INSPIRE 2 WITH A CAMERA/GIMBLE COMBINATION SET UP. DJI INSPIRE 2 (SN 09YDDCQL040384) CURRENT FAA SUAS REGISTRATION NUMBER FA343FTPWM. REGISTERED TO ^PRIVACY DATA OMITTED^. RPIC WAS OPERATING WITH ONE INEXPERIENCED VISUAL OBSERVER (VO). RPIC WAS NOT ACCUSTOMED TO OPERATING THE SMALL UNMANNED AIRCRAFT CONTROLS, MANIPULATING THE CAMERA/GIMBLE COMBINATION SET UP, AND COMMUNICATING TO ATCT VIA RADIO SIMULTANEOUSLY. RPIC WAS ALSO WORKING WITH AN INEXPERIENCED VO. RPIC BECAME TASK SATURATED AND LOST SIGHT OF THE SMALL UNMANNED AIRCRAFT. AT 1208 LOCAL TIME, THE SMALL UNMANNED AIRCRAFT STRUCK THE WEST SIDE OF KMHV ATCT. ^PRIVACY DATA OMITTED^ SUSTAINED A SUPERFICIAL HORIZONTAL LACERATION TO HIS RIGHT LOWER, INSIDE FOREARM. HE WAS TREATED ON-SCENE WITH BANDAGE AND GAUZE WRAP.\n",
            "2 -  USED RENTED DJI INSPIRE 2 DRONE.\n",
            "UAS PILOT ^PRIVACY DATA OMITTED^ REMOTE CERTIFICATE #^PRIVACY DATA OMITTED^ WAS HIRED BY PRODUCER ^PRIVACY DATA OMITTED^ TO DO SOME AERIAL SHOTS OF EL MORRO FOR A DOCUMENTARY ABOUT THE 500 YEARS OF THE CITY OF SAN JUAN ON SEPTEMBER 3RD. USED RENTED DJI INSPIRE 2 DRONE. LOST CONTROL LINK WITH DRONE ON WAY BACK CRASHED INTO EL MORRO FORT IN OLD SAN JUAN.\n",
            "3 - AIRCRAFT IS A DJI T650A INSPIRE 2 SUAS, SERIAL # 0A0LG2J107005, REGISTRATION # FA3FTYCLFE.\n",
            "AIRCRAFT IS A DJI T650A INSPIRE 2 SUAS, SERIAL # 0A0LG2J107005, REGISTRATION # FA3FTYCLFE. FREQUENCY USED IS UNKNOWN. THE AIRCRAFT HAS TWO FREQUENCIES AVAILABLE, 2.4 AND 5.8 GHZ, BUT THE PIC DOESN'T REMEMBER WHICH ONE WAS IN USE DURING THE FLIGHT. PIC IS ^PRIVACY DATA OMITTED^, CERTIFICATE ^PRIVACY DATA OMITTED^. ^PRIVACY DATA OMITTED^ SAID THAT THE UAS EXPERIENCED AN ERROR ON ITS FIRST CALIBRATION ATTEMPT PRIOR TO LAUNCH BUT CALIBRATED CORRECTLY ON THE SECOND ATTEMPT AND THE FLIGHT CONTINUED AFTER RECORDING THE HOME POINT AT THE LAUNCH POSITION. HE SAID THE UAS WAS IN POSITIONING MODE (P-MODE) FOR THE ENTIRE FLIGHT. THE LANDING SEQUENCE WAS INITIATED MANUALLY (I.E. THE AUTOLAND FEATURE WAS NOT USED). ^PRIVACY DATA OMITTED^ SAID THAT THE UAS \"TOOK OFF\" WHEN IT GOT DOWN TO ABOUT 5' AGL AND FLEW INSIDE THE CPD HANGAR WHERE IT STRUCK A CPD HELICOPTER. HE SAID THAT THE UAS ACTED AS IF IT WAS \"PRE-PROGRAMMED\" TO FLY INTO THE HANGAR ONCE IT GOT AWAY FROM HIM.\n",
            "mavic 3: инцидентов - 0\n"
          ]
        }
      ]
    },
    {
      "cell_type": "code",
      "source": [
        "# TODO 4-2 - После вывода информации об инциденте сохраните всю информацию о дроне в файл .json при помощи метода save_data\n",
        "\n",
        "# РЕЗУЛЬТАТ:\n",
        "# см. приложенные файлы в папке samples"
      ],
      "metadata": {
        "id": "Dru_dmPGf9Sc"
      },
      "execution_count": 49,
      "outputs": []
    },
    {
      "cell_type": "code",
      "source": [
        "# ВАШ КОД:\n",
        "print(drones_list[3].save_data())"
      ],
      "metadata": {
        "id": "sNQVOSkCgA6K",
        "colab": {
          "base_uri": "https://localhost:8080/"
        },
        "outputId": "7a5bba4c-8a9d-4db6-b79c-6da16a2ae59f"
      },
      "execution_count": 50,
      "outputs": [
        {
          "output_type": "stream",
          "name": "stdout",
          "text": [
            "{'model': 'DJI Inspire 2', 'weight': 1500, 'brand': 'DJI', 'missions': [[[['2022-07-08 08:30:41', '43.7016149460799', '40.2669271016474', '97.112864'], ['2022-07-08 08:30:41', '43.7016151637448', '40.2669269768296', '97.112864'], ['2022-07-08 08:30:41', '43.7016153130094', '40.2669268535285', '96.78478']], [['2022-07-08 08:37:52', '43.7016153397991', '40.2668886059991', '67.585304'], ['2022-07-08 08:37:52', '43.7016144338303', '40.2668891559843', '67.585304']], [['2022-07-08 09:48:12', '43.7017189028522', '40.2670672676356', '67.913388'], ['2022-07-08 09:48:12', '43.7017218362935', '40.2670711283265', '67.913388']], [['2022-07-08 09:03:16', '43.701692571678', '40.2668629799951', '66.601052'], ['2022-07-08 09:03:16', '43.7016924802248', '40.2668631081306', '66.601052']], [['2022-07-08 09:37:27', '43.7017255310341', '40.2671278192286', '65.944884'], ['2022-07-08 09:37:27', '43.7017256548078', '40.2671270359061', '65.944884'], ['2022-07-08 09:37:28', '43.7017259091909', '40.2671263304229', '65.944884'], ['2022-07-08 09:37:28', '43.7017261079106', '40.2671254313945', '65.944884']], [['2022-07-08 09:20:46', '43.7018018488353', '40.2670139865328', '73.8189'], ['2022-07-08 09:20:47', '43.7018016535593', '40.2670140143188', '73.8189'], ['2022-07-08 09:20:47', '43.701801648608', '40.2670140363106', '73.8189']]]], 'incidents': [{'Data Source': 'ACCIDENT AND INCIDENT DATABASE', 'Report Number': '20200130003529I', 'Local Date': '30-JAN-20', 'City': 'COLUMBUS', 'State': 'OH', 'Airport Name': 'COLUMBUS', 'Event Type': 'INCIDENT', 'Mid Air Collision': 'NOT A MIDAIR', 'Aircraft Damage': 'SUBSTANTIAL', 'Registration Nbr': 'NONE ', 'Total Aboard': '1', 'Fatalities': '0', 'Injuries': '0', 'Details': 'AIRCRAFT IS A DJI T650A INSPIRE 2 SUAS, SERIAL # 0A0LG2J107005, REGISTRATION # FA3FTYCLFE. FREQUENCY USED IS UNKNOWN. THE AIRCRAFT HAS TWO FREQUENCIES AVAILABLE, 2.4 AND 5.8 GHZ, BUT THE PIC DOESN\\'T REMEMBER WHICH ONE WAS IN USE DURING THE FLIGHT. PIC IS ^PRIVACY DATA OMITTED^, CERTIFICATE ^PRIVACY DATA OMITTED^. ^PRIVACY DATA OMITTED^ SAID THAT THE UAS EXPERIENCED AN ERROR ON ITS FIRST CALIBRATION ATTEMPT PRIOR TO LAUNCH BUT CALIBRATED CORRECTLY ON THE SECOND ATTEMPT AND THE FLIGHT CONTINUED AFTER RECORDING THE HOME POINT AT THE LAUNCH POSITION. HE SAID THE UAS WAS IN POSITIONING MODE (P-MODE) FOR THE ENTIRE FLIGHT. THE LANDING SEQUENCE WAS INITIATED MANUALLY (I.E. THE AUTOLAND FEATURE WAS NOT USED). ^PRIVACY DATA OMITTED^ SAID THAT THE UAS \"TOOK OFF\" WHEN IT GOT DOWN TO ABOUT 5\\' AGL AND FLEW INSIDE THE CPD HANGAR WHERE IT STRUCK A CPD HELICOPTER. HE SAID THAT THE UAS ACTED AS IF IT WAS \"PRE-PROGRAMMED\" TO FLY INTO THE HANGAR ONCE IT GOT AWAY FROM HIM.'}, {'Data Source': 'ACCIDENT AND INCIDENT DATABASE', 'Report Number': '20200130003529I', 'Local Date': '30-JAN-20', 'City': 'COLUMBUS', 'State': 'OH', 'Airport Name': 'COLUMBUS', 'Event Type': 'INCIDENT', 'Mid Air Collision': 'NOT A MIDAIR', 'Aircraft Damage': 'SUBSTANTIAL', 'Registration Nbr': 'NONE ', 'Total Aboard': '1', 'Fatalities': '0', 'Injuries': '0', 'Details': 'AIRCRAFT IS A DJI T650A INSPIRE 2 SUAS, SERIAL # 0A0LG2J107005, REGISTRATION # FA3FTYCLFE. FREQUENCY USED IS UNKNOWN. THE AIRCRAFT HAS TWO FREQUENCIES AVAILABLE, 2.4 AND 5.8 GHZ, BUT THE PIC DOESN\\'T REMEMBER WHICH ONE WAS IN USE DURING THE FLIGHT. PIC IS ^PRIVACY DATA OMITTED^, CERTIFICATE ^PRIVACY DATA OMITTED^. ^PRIVACY DATA OMITTED^ SAID THAT THE UAS EXPERIENCED AN ERROR ON ITS FIRST CALIBRATION ATTEMPT PRIOR TO LAUNCH BUT CALIBRATED CORRECTLY ON THE SECOND ATTEMPT AND THE FLIGHT CONTINUED AFTER RECORDING THE HOME POINT AT THE LAUNCH POSITION. HE SAID THE UAS WAS IN POSITIONING MODE (P-MODE) FOR THE ENTIRE FLIGHT. THE LANDING SEQUENCE WAS INITIATED MANUALLY (I.E. THE AUTOLAND FEATURE WAS NOT USED). ^PRIVACY DATA OMITTED^ SAID THAT THE UAS \"TOOK OFF\" WHEN IT GOT DOWN TO ABOUT 5\\' AGL AND FLEW INSIDE THE CPD HANGAR WHERE IT STRUCK A CPD HELICOPTER. HE SAID THAT THE UAS ACTED AS IF IT WAS \"PRE-PROGRAMMED\" TO FLY INTO THE HANGAR ONCE IT GOT AWAY FROM HIM.'}, {'Data Source': 'ACCIDENT AND INCIDENT DATABASE', 'Report Number': '20200130003529I', 'Local Date': '30-JAN-20', 'City': 'COLUMBUS', 'State': 'OH', 'Airport Name': 'COLUMBUS', 'Event Type': 'INCIDENT', 'Mid Air Collision': 'NOT A MIDAIR', 'Aircraft Damage': 'SUBSTANTIAL', 'Registration Nbr': 'NONE ', 'Total Aboard': '1', 'Fatalities': '0', 'Injuries': '0', 'Details': 'AIRCRAFT IS A DJI T650A INSPIRE 2 SUAS, SERIAL # 0A0LG2J107005, REGISTRATION # FA3FTYCLFE. FREQUENCY USED IS UNKNOWN. THE AIRCRAFT HAS TWO FREQUENCIES AVAILABLE, 2.4 AND 5.8 GHZ, BUT THE PIC DOESN\\'T REMEMBER WHICH ONE WAS IN USE DURING THE FLIGHT. PIC IS ^PRIVACY DATA OMITTED^, CERTIFICATE ^PRIVACY DATA OMITTED^. ^PRIVACY DATA OMITTED^ SAID THAT THE UAS EXPERIENCED AN ERROR ON ITS FIRST CALIBRATION ATTEMPT PRIOR TO LAUNCH BUT CALIBRATED CORRECTLY ON THE SECOND ATTEMPT AND THE FLIGHT CONTINUED AFTER RECORDING THE HOME POINT AT THE LAUNCH POSITION. HE SAID THE UAS WAS IN POSITIONING MODE (P-MODE) FOR THE ENTIRE FLIGHT. THE LANDING SEQUENCE WAS INITIATED MANUALLY (I.E. THE AUTOLAND FEATURE WAS NOT USED). ^PRIVACY DATA OMITTED^ SAID THAT THE UAS \"TOOK OFF\" WHEN IT GOT DOWN TO ABOUT 5\\' AGL AND FLEW INSIDE THE CPD HANGAR WHERE IT STRUCK A CPD HELICOPTER. HE SAID THAT THE UAS ACTED AS IF IT WAS \"PRE-PROGRAMMED\" TO FLY INTO THE HANGAR ONCE IT GOT AWAY FROM HIM.'}]}\n"
          ]
        }
      ]
    }
  ]
}