{
  "nbformat": 4,
  "nbformat_minor": 0,
  "metadata": {
    "colab": {
      "provenance": [],
      "mount_file_id": "1uw1HNzsotrq0xECnZ67LkWNCwS0qMdDr",
      "authorship_tag": "ABX9TyOgK65GnAj6D39Ra4LWqvZw",
      "include_colab_link": true
    },
    "kernelspec": {
      "name": "python3",
      "display_name": "Python 3"
    },
    "language_info": {
      "name": "python"
    }
  },
  "cells": [
    {
      "cell_type": "markdown",
      "metadata": {
        "id": "view-in-github",
        "colab_type": "text"
      },
      "source": [
        "<a href=\"https://colab.research.google.com/github/katyreena/mai_python_2022/blob/main/Homework/HW_2/HW_2_v0.ipynb\" target=\"_parent\"><img src=\"https://colab.research.google.com/assets/colab-badge.svg\" alt=\"Open In Colab\"/></a>"
      ]
    },
    {
      "cell_type": "code",
      "source": [
        "# Напоминание: вам понадобится материал лекций:\n",
        "# 3 - Списки и кортежи\n",
        "# 4 - Словари и множества\n",
        "# 7 и 8 - Классы\n",
        "# 9 - Работа с файлами\n",
        "\n",
        "# =====================================\n",
        "# ЗАДАНИЕ 1: Работа с файлами\n",
        "# =====================================\n",
        "# TODO 1-1\n",
        "#  Прочитайте данные из файла pilot_path.json (лекция 9)"
      ],
      "metadata": {
        "id": "RM7uQ4G7rdFZ"
      },
      "execution_count": 14,
      "outputs": []
    },
    {
      "cell_type": "code",
      "source": [
        "# ВАШ КОД:\n",
        "import json\n",
        "\n",
        "with open(\"/content/drive/MyDrive/Colab Files/pilot_path.json\") as f:\n",
        "  pilots = json.load(f)"
      ],
      "metadata": {
        "id": "j5FFJeHYrksi"
      },
      "execution_count": 15,
      "outputs": []
    },
    {
      "cell_type": "code",
      "source": [
        "# =====================================\n",
        "# ЗАДАНИЕ 2: Расчет статистик\n",
        "# =====================================\n",
        "# TODO 2-1) Подсчитайте, сколько миссий налетал каждый пилот. Выведите результат в порядке убывания миссий\n",
        "# ИНФОРМАЦИЯ:\n",
        "# структура данных в файле: {\"имя_пилота\": \"список_миссий\":[миссия1, ...]]\n",
        "# структура одной миссии: {\"drone\":\"модель_дрона\", \"mission\":[список точек миссии]}\n",
        "# у пилотов неодинаковое количество миссий (и миссии могут быть разной длины). у каждой миссии - произвольная модель дрона\n",
        "\n",
        "# РЕЗУЛЬТАТ:\n",
        "# Пилоты в порядке убывания количества миссий: {'pilot3': 6, 'pilot8': 6, 'pilot6': 5, 'pilot2': 5, 'pilot7': 4, 'pilot9': 3, 'pilot5': 3, 'pilot4': 2, 'pilot1': 1}\n",
        "\n",
        "# подсказка: готовый код нужной вам сортировки есть здесь (Sample Solution-1:): https://www.w3resource.com/python-exercises/dictionary/python-data-type-dictionary-exercise-1.php\n",
        "print(f\"Пилоты в порядке убывания количества миссий: {dict(sorted(pilot_mission_dict.items(), key=lambda item: item[1], reverse=True))}\")"
      ],
      "metadata": {
        "id": "b7603i3Erku6"
      },
      "execution_count": null,
      "outputs": []
    },
    {
      "cell_type": "code",
      "source": [
        "# ВАШ КОД:\n",
        "pilot_mission_dict = dict()\n",
        "for pilot in pilots:\n",
        "    pilot_mission_dict[pilot] = len(pilots[pilot][\"missions\"])\n",
        "\n",
        "print(f\"Пилоты в порядке убывания количества миссий: {dict(sorted(pilot_mission_dict.items(), key=lambda item: item[1], reverse=True))}\")"
      ],
      "metadata": {
        "id": "67YLywECsWlv",
        "colab": {
          "base_uri": "https://localhost:8080/"
        },
        "outputId": "ed46af01-c52f-45cf-a5ae-c5d17c7597a7"
      },
      "execution_count": 16,
      "outputs": [
        {
          "output_type": "stream",
          "name": "stdout",
          "text": [
            "Пилоты в порядке убывания количества миссий: {'pilot3': 6, 'pilot8': 6, 'pilot6': 5, 'pilot2': 5, 'pilot7': 4, 'pilot9': 3, 'pilot5': 3, 'pilot4': 2, 'pilot1': 1}\n"
          ]
        }
      ]
    },
    {
      "cell_type": "code",
      "source": [
        "# TODO 2-2) Получите и выведите список всех моделей дронов, которые были в файле pilot_path.json\n",
        "# Подсказка: внутри print используйте str.join(), чтобы соединить элементы списка (множества)\n",
        "\n",
        "# РЕЗУЛЬТАТ:\n",
        "# Полеты совершались на дронах следующих моделей: DJI Mavic 2 Pro, DJI Mavic 3, DJI Inspire 2, DJI Mavic 2 Zoom, DJI Mavic 2 Enterprise Advanced\n",
        "\n",
        "# вывод результата (допишите код)\n",
        "print(f'Полеты совершались на дронах следующих моделей: {\", \".join(...)}')"
      ],
      "metadata": {
        "id": "Cz3XoewmrkxS"
      },
      "execution_count": null,
      "outputs": []
    },
    {
      "cell_type": "code",
      "source": [
        "# ВАШ КОД:\n",
        "models = set()\n",
        "for pilot in pilots:\n",
        "  [models.add(mission[\"drone\"]) for mission in pilots[pilot][\"missions\"]]\n",
        "\n",
        "print(f'Полеты совершались на дронах следующих моделей: {\", \".join(models)}')"
      ],
      "metadata": {
        "id": "kn0jiGYnsglX",
        "colab": {
          "base_uri": "https://localhost:8080/"
        },
        "outputId": "e7413ee1-cf4a-4ec2-9dcc-1e1cbc6714db"
      },
      "execution_count": 17,
      "outputs": [
        {
          "output_type": "stream",
          "name": "stdout",
          "text": [
            "Полеты совершались на дронах следующих моделей: DJI Mavic 3, DJI Mavic 2 Pro, DJI Mavic 2 Enterprise Advanced, DJI Inspire 2, DJI Mavic 2 Zoom\n"
          ]
        }
      ]
    },
    {
      "cell_type": "code",
      "source": [
        "# TODO 2-3) Получите список миссий для каждой модели дронов, которые были в файле pilot_path.json,\n",
        "# и выведите на экран модель дрона и количество миссий, которые он отлетал\n",
        "\n",
        "# РЕЗУЛЬТАТ:\n",
        "# Дрон DJI Inspire 2 отлетал 6 миссий\n",
        "# Дрон DJI Mavic 2 Pro отлетал 6 миссий\n",
        "# Дрон DJI Mavic 2 Enterprise Advanced отлетал 10 миссий\n",
        "# Дрон DJI Mavic 3 отлетал 4 миссий\n",
        "# Дрон DJI Mavic 2 Zoom отлетал 9 миссий\n",
        "\n",
        "# вывод результата (допишите код)\n",
        "print(f'Дрон {...} отлетал {...} миссий')"
      ],
      "metadata": {
        "id": "wuzNlKEjrkzh"
      },
      "execution_count": null,
      "outputs": []
    },
    {
      "cell_type": "code",
      "source": [
        "# ВАШ КОД:\n",
        "model_missions = dict()\n",
        "for pilot in pilots:\n",
        "  for mission in pilots[pilot][\"missions\"]:\n",
        "    model_missions.setdefault(mission[\"drone\"], [])\n",
        "    model_missions[mission[\"drone\"]] += [mission[\"mission\"]]\n",
        "\n",
        "print('\\n'.join([f'Дрон {name} отлетал {len(count)} миссий' for name, count in model_missions.items()]))"
      ],
      "metadata": {
        "id": "TIq3a7X5ssrX",
        "colab": {
          "base_uri": "https://localhost:8080/"
        },
        "outputId": "3ae98df4-b18c-41bc-eeb9-25da127057d1"
      },
      "execution_count": 18,
      "outputs": [
        {
          "output_type": "stream",
          "name": "stdout",
          "text": [
            "Дрон DJI Inspire 2 отлетал 6 миссий\n",
            "Дрон DJI Mavic 2 Pro отлетал 6 миссий\n",
            "Дрон DJI Mavic 2 Enterprise Advanced отлетал 10 миссий\n",
            "Дрон DJI Mavic 3 отлетал 4 миссий\n",
            "Дрон DJI Mavic 2 Zoom отлетал 9 миссий\n"
          ]
        }
      ]
    },
    {
      "cell_type": "code",
      "source": [
        "# =====================================\n",
        "# ЗАДАНИЕ 3: Создание классов\n",
        "# =====================================\n",
        "# Для вас уже написаны заготовки классов Aircraft и UAV\n",
        "# TODO 3-1) Добавьте в класс UAV защищенный атрибут _=_missions (тип - список списков [[], []]), куда вы будете сохранять все миссии, которые отлетал беспилотник\n",
        "# TODO 3-2) При помощи декоратора @property сделайте возможность чтения и записи миссий в этот атрибут (лекция 8)\n",
        "# TODO 3-3) Создайте в классе UAV публичный метод count_missions, который возвращает количество миссий (лекция 7)\n",
        "# TODO 3-4) Создайте класс MultirotorUAV - наследник классов Aircraft и UAV (лекция 7)"
      ],
      "metadata": {
        "id": "zmNG7k30rk1x"
      },
      "execution_count": 19,
      "outputs": []
    },
    {
      "cell_type": "code",
      "source": [
        "# ВАШ КОД (дополните то, что нужно в классах):\n",
        "class Aircraft:\n",
        "\tdef __init__(self, weight):\n",
        "\t\tself._weight = weight\n",
        "\n",
        "class UAV:\n",
        "\tdef __init__(self):\n",
        "\t\tself._has_autopilot = True\n",
        "\t\tself._missions = []\n",
        "\n",
        "\t# напишите код для декоратора атрибута _missions\n",
        "\t@property\n",
        "\tdef missions(self):\n",
        "\t\treturn self._missions\n",
        "\n",
        "\t@missions.setter\n",
        "\tdef missions(self, mission):\n",
        "\t\tself._missions.append(mission)\n",
        " \n",
        "\t# напишите публичный метод count_missions\n",
        "\tdef count_missions(self):\n",
        "\t\tcount = 0\n",
        "\t\tfor i in self._missions:\n",
        "\t\t\tfor j in i:\n",
        "\t\t\t\tcount += 1\n",
        "\t\treturn count\n",
        "\n",
        "class MultirotorUAV(Aircraft, UAV):\n",
        "\tdef __init__(self, weight, model, brand):\n",
        "\t\tsuper().__init__(weight)\n",
        "\t\tUAV.__init__(self)\n",
        "\t\tself.__weight = weight\n",
        "\t\tself.__model = model\n",
        "\t\tself.__brand = brand\n",
        "\n",
        "\tdef __str__(self):\n",
        "\t\treturn f\"Дрон {self.__model}: масса {self._weight}, производитель {self.__brand}, количество миссий {self.count_missions()}\"\n",
        "\n",
        "\tdef __repr__(self):\n",
        "\t\treturn f\"Дрон {self.__model}: масса {self._weight}, производитель {self.__brand}, количество миссий {self.count_missions()}\"\n",
        "\n",
        "\t# напишите публичный метод get_info\n",
        "\tdef get_info(self):\n",
        "\t\tprint(f\"Дрон {self.__model}: масса {self._weight}, производитель {self.__brand}, количество миссий {self.count_missions()}\")\n",
        "\n",
        "\t# напишите публичный метод get_model\n",
        "\tdef get_model(self):\n",
        "\t\treturn self.__model"
      ],
      "metadata": {
        "id": "s0oxEYhvs0mW"
      },
      "execution_count": 52,
      "outputs": []
    },
    {
      "cell_type": "code",
      "source": [
        "# =====================================\n",
        "# ЗАДАНИЕ 4: Работа с экземплярами классов\n",
        "# =====================================\n",
        "# TODO 4-1) Создайте экземпляры класса MultirotorUAV для всех моделей дронов, которые были в файле pilot_path.json\n",
        "# Подсказка: созданные экземпляры класса MultirotorUAV сохраните в список для последующего использования\n",
        "# TODO 4-2) При создании каждого экземпляра задайте ему как приватные атрибуты массу и производителя из справочника дронов drone_catalog в соответствии с моделью дрона\n",
        "# TODO 4-3) А также добавьте ему миссии, найденные для этой модели дрона на шаге 2-3\n",
        "# Напоминание: миссии находятся в атрибуте missions (с декоратором, и поэтому он публично доступен) в классе UAV\n",
        "\n",
        "# каталог дронов уже готов для вас:\n",
        "drone_catalog = {\n",
        "\t\"DJI Mavic 2 Pro\": {\"weight\":903, \"brand\":\"DJI\"},\n",
        "\t\"DJI Mavic 2 Zoom\": {\"weight\":900, \"brand\":\"DJI\"},\n",
        "\t\"DJI Mavic 2 Enterprise Advanced\": {\"weight\":920, \"brand\":\"DJI\"},\n",
        "\t\"DJI Inspire 2\": {\"weight\":1500, \"brand\":\"DJI\"},\n",
        "\t\"DJI Mavic 3\": {\"weight\":1000, \"brand\":\"DJI\"}\n",
        "}"
      ],
      "metadata": {
        "id": "62PD2QEKrk4G"
      },
      "execution_count": 21,
      "outputs": []
    },
    {
      "cell_type": "code",
      "source": [
        "# ВАШ КОД:\n",
        "drones_list = []\n",
        "for i, model in enumerate(models):\n",
        "  drones_list.append(MultirotorUAV(drone_catalog[model][\"weight\"], model,\\\n",
        "                                   drone_catalog[model][\"brand\"]))\n",
        "  drones_list[i].missions.append(model_missions[model])\n",
        "\n",
        "drones_list"
      ],
      "metadata": {
        "id": "RjBHBs8fs-IW",
        "colab": {
          "base_uri": "https://localhost:8080/"
        },
        "outputId": "d2d55d0d-8a5b-425a-dd63-f71d4bfc7d34"
      },
      "execution_count": 25,
      "outputs": [
        {
          "output_type": "execute_result",
          "data": {
            "text/plain": [
              "[Дрон DJI Mavic 3: масса 1000, производитель DJI, количество миссий 4,\n",
              " Дрон DJI Mavic 2 Pro: масса 903, производитель DJI, количество миссий 6,\n",
              " Дрон DJI Mavic 2 Enterprise Advanced: масса 920, производитель DJI, количество миссий 10,\n",
              " Дрон DJI Inspire 2: масса 1500, производитель DJI, количество миссий 6,\n",
              " Дрон DJI Mavic 2 Zoom: масса 900, производитель DJI, количество миссий 9]"
            ]
          },
          "metadata": {},
          "execution_count": 25
        }
      ]
    },
    {
      "cell_type": "code",
      "source": [
        "# TODO 4-4\n",
        "# Напишите код, который выводит информацию по заданной модели дрона. Состав информации: масса, производитель, количество отлетанных миссий\n",
        "# (название модели пользователь вводит с клавиатуры в любом регистре, но без опечаток)\n",
        "# Подсказка: для этого вам необходимо вернуться в ЗАДАНИЕ 3 и добавить в класс два публичных метода: get_info(), который выводит нужную информацию,\n",
        "# и get_model, который позволит получить название модели дрона\n",
        "\n",
        "# РЕЗУЛЬТАТ:\n",
        "# Информация о дроне DJI Mavic 2 Pro: масса 903, производитель DJI, количество миссий 6\n",
        "user_unput = input(\"Введите модель дрона (полностью) в любом регистре\\n\")"
      ],
      "metadata": {
        "id": "uLhKZ8Uurk6B"
      },
      "execution_count": null,
      "outputs": []
    },
    {
      "cell_type": "code",
      "source": [
        "# ВАШ КОД:\n",
        "user_unput = input(\"Введите модель дрона (полностью) в любом регистре\\n\").lower()\n",
        "for drone in drones_list:\n",
        "  if user_unput == drone.get_model().lower():\n",
        "    print(drone)"
      ],
      "metadata": {
        "id": "2IjZme8brlN9",
        "colab": {
          "base_uri": "https://localhost:8080/"
        },
        "outputId": "3d2b9eca-f2eb-428c-fbc5-1e789b436b40"
      },
      "execution_count": 56,
      "outputs": [
        {
          "output_type": "stream",
          "name": "stdout",
          "text": [
            "Введите модель дрона (полностью) в любом регистре\n",
            "dJI Mavic 2 enterprise advanced\n",
            "Дрон DJI Mavic 2 Enterprise Advanced: масса 920, производитель DJI, количество миссий 10\n"
          ]
        }
      ]
    }
  ]
}
