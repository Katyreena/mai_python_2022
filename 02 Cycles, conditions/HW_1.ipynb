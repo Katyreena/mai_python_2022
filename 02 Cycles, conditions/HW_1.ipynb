{
  "nbformat": 4,
  "nbformat_minor": 0,
  "metadata": {
    "colab": {
      "provenance": [],
      "collapsed_sections": []
    },
    "kernelspec": {
      "name": "python3",
      "display_name": "Python 3"
    },
    "language_info": {
      "name": "python"
    }
  },
  "cells": [
    {
      "cell_type": "code",
      "execution_count": 1,
      "metadata": {
        "colab": {
          "base_uri": "https://localhost:8080/"
        },
        "id": "IrtJz-LXKxqu",
        "outputId": "c28344ab-70fc-4d37-812b-ab366749fc01"
      },
      "outputs": [
        {
          "output_type": "stream",
          "name": "stdout",
          "text": [
            "DJI Mavic 2 Pro\n",
            "DJI Mavic 2 Zoom\n",
            "DJI Mavic 2 Enterprise Advanced\n",
            "AUTEL Evo II Pro\n",
            "DJI Mini 2\n",
            "Autel Evo Nano\n",
            "Autel Evo Lite Plus\n",
            "Parrot Anafi\n",
            "Dji Inspire 2\n",
            "DJI Mavic 3\n",
            "DJI Mavic Air2s\n",
            "Ryze Tello\n",
            "Eachine Trashcan\n"
          ]
        }
      ],
      "source": [
        "drone_list = [\"DJI Mavic 2 Pro\", \"DJI Mavic 2 Zoom\", \"DJI Mavic 2 Enterprise Advanced\", \"AUTEL Evo II Pro\", \"DJI Mini 2\", \"Autel Evo Nano\", \"Autel Evo Lite Plus\", \"Parrot Anafi\", \"Dji Inspire 2\", \"DJI Mavic 3\", \"DJI Mavic Air2s\", \"Ryze Tello\", \"Eachine Trashcan\"]\n",
        "\n",
        "drone_weight_list = [903, 900, 920, 980, 249, 249, 600, 540, 1500, 1000, 570, 130, 110]\n",
        "\n",
        "#в drone по очереди попадает каждый дрон из списка drone_list\n",
        "for drone in drone_list:\n",
        "\tprint(drone)"
      ]
    },
    {
      "cell_type": "code",
      "source": [
        "#TODO1\n",
        "#выведите все дроны производителя, название которого введет пользователь через input, и подсчитайте их количество. \n",
        "#учтите, что:\n",
        "#1) DJI и Dji - это один и тот же производитель! такие случаи тоже должны обрабатываться\n",
        "#2) при выводе исправьте название производителя, если допущена ошибка. правильный вариант названия: DJI, Autel\n",
        "\n",
        "count = 0",
        "company_name = input().lower().strip()\n",
        "for drone in drone_list:\n",
        "  drone = drone.strip().split()\n",
        "  drone[0] = drone[0].lower()\n",
        "  if drone[0] == company_name:\n",
        "    drone[0] = drone[0].upper() if drone[0] == \"dji\" else drone[0].capitalize()\n",
        "    print(\" \".join(drone))",
        "    count += 1",
        "print(f\"\\nCount: {count}\\n\")"
      ],
      "metadata": {
        "colab": {
          "base_uri": "https://localhost:8080/"
        },
        "id": "ZxckRemtK6Px",
        "outputId": "67364302-a213-4b6d-bcc5-9abfdcf33417"
      },
      "execution_count": 82,
      "outputs": [
        {
          "output_type": "stream",
          "name": "stdout",
          "text": [
            "dJi\n",
            "DJI Mavic 2 Pro\n",
            "DJI Mavic 2 Zoom\n",
            "DJI Mavic 2 Enterprise Advanced\n",
            "DJI Mini 2\n",
            "DJI Inspire 2\n",
            "DJI Mavic 3\n",
            "DJI Mavic Air2s\n"
          ]
        }
      ]
    },
    {
      "cell_type": "code",
      "source": [
        "#TODO2\n",
        "#подсчитайте количество моделей дронов каждого производителя из списка drone_list. производители: DJI, Autel, Parrot, Ryze, Eachine\n",
        "\n",
        "d = dict((name, set()) for name in [\"DJI\", \"Autel\", \"Parrot\", \"Ryze\", \"Eachine\"])\n",
        "for drone in drone_list:\n",
        "  drone = drone.strip().split()\n",
        "  company_name = drone[0].upper() if drone[0].lower() == \"dji\" else drone[0].capitalize()\n",
        "  drone[0] = \"\"\n",
        "  model_name = \" \".join(drone)\n",
        "  d[company_name].add(model_name)\n",
        "\n",
        "for i in d:\n",
        "  print(f\"{i}: {len(d[i])}\")"
      ],
      "metadata": {
        "colab": {
          "base_uri": "https://localhost:8080/"
        },
        "id": "ivb-BNvWPb7q",
        "outputId": "d8f34d2b-cbe0-4ec7-efc3-a1b0e78735c2"
      },
      "execution_count": 86,
      "outputs": [
        {
          "output_type": "stream",
          "name": "stdout",
          "text": [
            "DJI: 7\n",
            "Autel: 3\n",
            "Parrot: 1\n",
            "Ryze: 1\n",
            "Eachine: 1\n"
          ]
        }
      ]
    },
    {
      "cell_type": "code",
      "source": [
        "#TODO3\n",
        "#выведите все дроны из списка, которые нужно регистрировать (масса больше 150 г), и подсчитайте их количество. \n",
        "#сделайте то же самое для всех дронов, которые не нужно регистрировать\n",
        "#для этого вам нужно параллельно обрабатывать два списка: drone_list и drone_weight_list:\n",
        "#как работает zip, мы разберем на лекции про списки. пока что просто пользуйтесь\n",
        "\n",
        "count = 0\n",
        "print(\"Need registration:\\n\")\n",
        "for drone, weight in zip(drone_list,  drone_weight_list):\n",
        "  if weight > 150:\n",
        "    count += 1\n",
        "    print(drone, weight)\n",
        "print(f\"\\nCount: {count}\\n\")\n",
        " \n",
        "count = 0\n",
        "print(\"\\nDo not need registration:\\n\")\n",
        "for drone, weight in zip(drone_list,  drone_weight_list):\n",
        "  if weight <= 150:\n",
        "    count += 1\n",
        "    print(drone, weight)\n",
        "print(f\"\\nCount: {count}\\n\")"
      ],
      "metadata": {
        "colab": {
          "base_uri": "https://localhost:8080/"
        },
        "id": "D3MtA7FxPd_i",
        "outputId": "89dbfd4f-89f7-4081-ba77-54a51f6ccd71"
      },
      "execution_count": 99,
      "outputs": [
        {
          "output_type": "stream",
          "name": "stdout",
          "text": [
            "Need registration:\n",
            "\n",
            "DJI Mavic 2 Pro 903\n",
            "DJI Mavic 2 Zoom 900\n",
            "DJI Mavic 2 Enterprise Advanced 920\n",
            "AUTEL Evo II Pro 980\n",
            "DJI Mini 2 249\n",
            "Autel Evo Nano 249\n",
            "Autel Evo Lite Plus 600\n",
            "Parrot Anafi 540\n",
            "Dji Inspire 2 1500\n",
            "DJI Mavic 3 1000\n",
            "DJI Mavic Air2s 570\n",
            "\n",
            "Count: 11\n",
            "\n",
            "\n",
            "Do not need registration:\n",
            "\n",
            "Ryze Tello 130\n",
            "Eachine Trashcan 110\n",
            "\n",
            "Count: 2\n",
            "\n"
          ]
        }
      ]
    },
    {
      "cell_type": "code",
      "source": [
        "#TODO4\n",
        "#для каждого дрона из списка выведите, нужно ли согласовывать полет при следующих условиях:\n",
        "#высота 100 м, полет над населенным пунктом, вне закрытых зон, в прямой видимости\n",
        "#помните, что для дронов тяжелее 150 г согласовывать полет над населенным пунктом - обязательно!\n",
        "\n",
        "drone_height_list = [77, 120, 111, 99, 100, 140, 88, 91, 71, 102, 84, 98, 99]\n",
        "drone_locality_list = [True, True, False, False, True, True, False, False, True, True, False, True, False]\n",
        "\n",
        "for drone, weight, height, locality in zip(drone_list,  drone_weight_list, drone_height_list, drone_locality_list):\n",
        "  if weight <= 150:\n",
        "    if height > 100:\n",
        "      res = \"cогласование нужно, тк высота более 100 м\"\n",
        "    elif locality == True:\n",
        "      res = \"cогласование нужно, тк полет над населенным пунктом\"\n",
        "    else:\n",
        "      res = \"cогласование не нужно\"\n",
        "\n",
        "  else:\n",
        "    res = \"cогласование нужно, тк вес более 150 г\"\n",
        "\n",
        "  print(f\"Дрон ({drone}) с весом ({weight}), требованием по высоте ({height}) и необходимостью пролета над нас.пунктом ({locality})\\nРезультат: {res}\\n\")"
      ],
      "metadata": {
        "colab": {
          "base_uri": "https://localhost:8080/"
        },
        "id": "EbBEaE0nPgPy",
        "outputId": "18cc5f74-72dc-4023-ef58-a2c0a23ffb7f"
      },
      "execution_count": 140,
      "outputs": [
        {
          "output_type": "stream",
          "name": "stdout",
          "text": [
            "Дрон (DJI Mavic 2 Pro) с весом (903), требованием по высоте (77) и необходимостью пролета над нас.пунктом (True)\n",
            "Результат: cогласование нужно, тк вес более 150 г\n",
            "\n",
            "Дрон (DJI Mavic 2 Zoom) с весом (900), требованием по высоте (120) и необходимостью пролета над нас.пунктом (True)\n",
            "Результат: cогласование нужно, тк вес более 150 г\n",
            "\n",
            "Дрон (DJI Mavic 2 Enterprise Advanced) с весом (920), требованием по высоте (111) и необходимостью пролета над нас.пунктом (False)\n",
            "Результат: cогласование нужно, тк вес более 150 г\n",
            "\n",
            "Дрон (AUTEL Evo II Pro) с весом (980), требованием по высоте (99) и необходимостью пролета над нас.пунктом (False)\n",
            "Результат: cогласование нужно, тк вес более 150 г\n",
            "\n",
            "Дрон (DJI Mini 2) с весом (249), требованием по высоте (100) и необходимостью пролета над нас.пунктом (True)\n",
            "Результат: cогласование нужно, тк вес более 150 г\n",
            "\n",
            "Дрон (Autel Evo Nano) с весом (249), требованием по высоте (140) и необходимостью пролета над нас.пунктом (True)\n",
            "Результат: cогласование нужно, тк вес более 150 г\n",
            "\n",
            "Дрон (Autel Evo Lite Plus) с весом (600), требованием по высоте (88) и необходимостью пролета над нас.пунктом (False)\n",
            "Результат: cогласование нужно, тк вес более 150 г\n",
            "\n",
            "Дрон (Parrot Anafi) с весом (540), требованием по высоте (91) и необходимостью пролета над нас.пунктом (False)\n",
            "Результат: cогласование нужно, тк вес более 150 г\n",
            "\n",
            "Дрон (Dji Inspire 2) с весом (1500), требованием по высоте (71) и необходимостью пролета над нас.пунктом (True)\n",
            "Результат: cогласование нужно, тк вес более 150 г\n",
            "\n",
            "Дрон (DJI Mavic 3) с весом (1000), требованием по высоте (102) и необходимостью пролета над нас.пунктом (True)\n",
            "Результат: cогласование нужно, тк вес более 150 г\n",
            "\n",
            "Дрон (DJI Mavic Air2s) с весом (570), требованием по высоте (84) и необходимостью пролета над нас.пунктом (False)\n",
            "Результат: cогласование нужно, тк вес более 150 г\n",
            "\n",
            "Дрон (Ryze Tello) с весом (130), требованием по высоте (98) и необходимостью пролета над нас.пунктом (True)\n",
            "Результат: cогласование нужно, тк полет над населенным пунктом\n",
            "\n",
            "Дрон (Eachine Trashcan) с весом (110), требованием по высоте (99) и необходимостью пролета над нас.пунктом (False)\n",
            "Результат: cогласование не нужно\n",
            "\n"
          ]
        }
      ]
    },
    {
      "cell_type": "code",
      "source": [
        "#TODO5*\n",
        "#модифицируйте решение задания TODO1:\n",
        "#теперь для введенного пользователем производителя вы должны вывести строку, содержащую перечисление моделей и БЕЗ названия производителя.\n",
        "#например, пользователь ввел \"Autel\". ваша программа должна вывести вот такой результат: \"Evo II Pro, Evo Nano, Evo Lite Plus\". для этого вам понадобится несколько функций работы со строками. решить эту задачу можно несколькими разными способами\n",
        "#производители те же: DJI, Autel, Parrot, Ryze, Eachine\n",
        "\n",
        "res = []\n",
        "company_name = input().lower().strip()\n",
        "for drone in drone_list:\n",
        "  drone = drone.strip().split()\n",
        "  if drone[0].lower() == company_name:\n",
        "    drone.remove(drone[0])\n",
        "    res.append(\" \".join(drone))\n",
        "\n",
        "\", \".join(res)"
      ],
      "metadata": {
        "colab": {
          "base_uri": "https://localhost:8080/",
          "height": 53
        },
        "id": "S6jmvxCVPixh",
        "outputId": "2dfffc13-74f0-4fe6-b33f-87e8cce09048"
      },
      "execution_count": 128,
      "outputs": [
        {
          "name": "stdout",
          "output_type": "stream",
          "text": [
            "dJi\n"
          ]
        },
        {
          "output_type": "execute_result",
          "data": {
            "text/plain": [
              "'Mavic 2 Pro, Mavic 2 Zoom, Mavic 2 Enterprise Advanced, Mini 2, Inspire 2, Mavic 3, Mavic Air2s'"
            ],
            "application/vnd.google.colaboratory.intrinsic+json": {
              "type": "string"
            }
          },
          "metadata": {},
          "execution_count": 128
        }
      ]
    }
  ]
}
